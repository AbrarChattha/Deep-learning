{
 "cells": [
  {
   "cell_type": "code",
   "execution_count": 27,
   "metadata": {},
   "outputs": [],
   "source": [
    "import pandas as pd\n",
    "import numpy as np"
   ]
  },
  {
   "cell_type": "code",
   "execution_count": 28,
   "metadata": {
    "scrolled": false
   },
   "outputs": [],
   "source": [
    "%config IPCompleter.greedy=True"
   ]
  },
  {
   "cell_type": "code",
   "execution_count": 29,
   "metadata": {},
   "outputs": [],
   "source": [
    "from tensorflow.keras.models import Sequential#or functional api\n",
    "from tensorflow.keras.layers import Dense#for connection of nodes\n",
    "from tensorflow.keras.optimizers import Adam,SGD#adam or gradient descent"
   ]
  },
  {
   "cell_type": "code",
   "execution_count": 30,
   "metadata": {},
   "outputs": [
    {
     "data": {
      "text/plain": [
       "'2.1.0'"
      ]
     },
     "execution_count": 30,
     "metadata": {},
     "output_type": "execute_result"
    }
   ],
   "source": [
    "import tensorflow\n",
    "tensorflow.__version__"
   ]
  },
  {
   "cell_type": "code",
   "execution_count": 31,
   "metadata": {},
   "outputs": [
    {
     "data": {
      "text/html": [
       "<div>\n",
       "<style scoped>\n",
       "    .dataframe tbody tr th:only-of-type {\n",
       "        vertical-align: middle;\n",
       "    }\n",
       "\n",
       "    .dataframe tbody tr th {\n",
       "        vertical-align: top;\n",
       "    }\n",
       "\n",
       "    .dataframe thead th {\n",
       "        text-align: right;\n",
       "    }\n",
       "</style>\n",
       "<table border=\"1\" class=\"dataframe\">\n",
       "  <thead>\n",
       "    <tr style=\"text-align: right;\">\n",
       "      <th></th>\n",
       "      <th>Gender</th>\n",
       "      <th>Height</th>\n",
       "      <th>Weight</th>\n",
       "    </tr>\n",
       "  </thead>\n",
       "  <tbody>\n",
       "    <tr>\n",
       "      <th>0</th>\n",
       "      <td>Male</td>\n",
       "      <td>73.847017</td>\n",
       "      <td>241.893563</td>\n",
       "    </tr>\n",
       "    <tr>\n",
       "      <th>1</th>\n",
       "      <td>Male</td>\n",
       "      <td>68.781904</td>\n",
       "      <td>162.310473</td>\n",
       "    </tr>\n",
       "    <tr>\n",
       "      <th>2</th>\n",
       "      <td>Male</td>\n",
       "      <td>74.110105</td>\n",
       "      <td>212.740856</td>\n",
       "    </tr>\n",
       "    <tr>\n",
       "      <th>3</th>\n",
       "      <td>Male</td>\n",
       "      <td>71.730978</td>\n",
       "      <td>220.042470</td>\n",
       "    </tr>\n",
       "    <tr>\n",
       "      <th>4</th>\n",
       "      <td>Male</td>\n",
       "      <td>69.881796</td>\n",
       "      <td>206.349801</td>\n",
       "    </tr>\n",
       "  </tbody>\n",
       "</table>\n",
       "</div>"
      ],
      "text/plain": [
       "  Gender     Height      Weight\n",
       "0   Male  73.847017  241.893563\n",
       "1   Male  68.781904  162.310473\n",
       "2   Male  74.110105  212.740856\n",
       "3   Male  71.730978  220.042470\n",
       "4   Male  69.881796  206.349801"
      ]
     },
     "execution_count": 31,
     "metadata": {},
     "output_type": "execute_result"
    }
   ],
   "source": [
    "df=pd.read_csv(  'weight-height.csv')\n",
    "df.head()"
   ]
  },
  {
   "cell_type": "code",
   "execution_count": 32,
   "metadata": {},
   "outputs": [],
   "source": [
    "model=Sequential()\n",
    "model.add(Dense(1,input_shape=(1,)))"
   ]
  },
  {
   "cell_type": "code",
   "execution_count": 33,
   "metadata": {},
   "outputs": [
    {
     "name": "stdout",
     "output_type": "stream",
     "text": [
      "Model: \"sequential_1\"\n",
      "_________________________________________________________________\n",
      "Layer (type)                 Output Shape              Param #   \n",
      "=================================================================\n",
      "dense_1 (Dense)              (None, 1)                 2         \n",
      "=================================================================\n",
      "Total params: 2\n",
      "Trainable params: 2\n",
      "Non-trainable params: 0\n",
      "_________________________________________________________________\n"
     ]
    }
   ],
   "source": [
    "model.summary()"
   ]
  },
  {
   "cell_type": "code",
   "execution_count": 34,
   "metadata": {},
   "outputs": [],
   "source": [
    " model.compile(Adam(lr=0.8),'mean_squared_error')"
   ]
  },
  {
   "cell_type": "code",
   "execution_count": 35,
   "metadata": {},
   "outputs": [
    {
     "name": "stdout",
     "output_type": "stream",
     "text": [
      "[73.84701702 68.78190405 74.11010539 71.7309784  69.88179586]/n/n[241.89356318 162.31047252 212.74085556 220.0424703  206.34980062]\n"
     ]
    }
   ],
   "source": [
    "X=df.Height.values#input\n",
    "y_true=df.Weight.values#output\n",
    "print(X[:5],y_true[:5],sep='/n/n')"
   ]
  },
  {
   "cell_type": "code",
   "execution_count": 36,
   "metadata": {},
   "outputs": [
    {
     "name": "stdout",
     "output_type": "stream",
     "text": [
      "Train on 10000 samples\n",
      "Epoch 1/50\n",
      "10000/10000 [==============================] - 1s 90us/sample - loss: 716.5734\n",
      "Epoch 2/50\n",
      "10000/10000 [==============================] - 0s 49us/sample - loss: 541.1565\n",
      "Epoch 3/50\n",
      "10000/10000 [==============================] - 0s 48us/sample - loss: 481.1956\n",
      "Epoch 4/50\n",
      "10000/10000 [==============================] - 0s 49us/sample - loss: 427.4839\n",
      "Epoch 5/50\n",
      "10000/10000 [==============================] - 0s 49us/sample - loss: 414.6140\n",
      "Epoch 6/50\n",
      "10000/10000 [==============================] - 0s 48us/sample - loss: 352.8200\n",
      "Epoch 7/50\n",
      "10000/10000 [==============================] - 0s 47us/sample - loss: 322.0101\n",
      "Epoch 8/50\n",
      "10000/10000 [==============================] - 0s 47us/sample - loss: 288.7245\n",
      "Epoch 9/50\n",
      "10000/10000 [==============================] - 0s 47us/sample - loss: 271.4565\n",
      "Epoch 10/50\n",
      "10000/10000 [==============================] - 0s 47us/sample - loss: 254.3471\n",
      "Epoch 11/50\n",
      "10000/10000 [==============================] - 0s 47us/sample - loss: 254.9947\n",
      "Epoch 12/50\n",
      "10000/10000 [==============================] - 0s 47us/sample - loss: 230.9913\n",
      "Epoch 13/50\n",
      "10000/10000 [==============================] - 0s 47us/sample - loss: 211.6303\n",
      "Epoch 14/50\n",
      "10000/10000 [==============================] - 0s 47us/sample - loss: 201.2069\n",
      "Epoch 15/50\n",
      "10000/10000 [==============================] - 0s 48us/sample - loss: 191.3336\n",
      "Epoch 16/50\n",
      "10000/10000 [==============================] - 0s 47us/sample - loss: 189.9166\n",
      "Epoch 17/50\n",
      "10000/10000 [==============================] - 0s 48us/sample - loss: 187.0979\n",
      "Epoch 18/50\n",
      "10000/10000 [==============================] - 0s 48us/sample - loss: 204.8265\n",
      "Epoch 19/50\n",
      "10000/10000 [==============================] - ETA: 0s - loss: 193.312 - 0s 48us/sample - loss: 193.0118\n",
      "Epoch 20/50\n",
      "10000/10000 [==============================] - 0s 48us/sample - loss: 175.7265\n",
      "Epoch 21/50\n",
      "10000/10000 [==============================] - 0s 47us/sample - loss: 172.7561\n",
      "Epoch 22/50\n",
      "10000/10000 [==============================] - 0s 49us/sample - loss: 170.0786\n",
      "Epoch 23/50\n",
      "10000/10000 [==============================] - 0s 49us/sample - loss: 181.3929\n",
      "Epoch 24/50\n",
      "10000/10000 [==============================] - 0s 48us/sample - loss: 188.9479\n",
      "Epoch 25/50\n",
      "10000/10000 [==============================] - 0s 48us/sample - loss: 177.8755\n",
      "Epoch 26/50\n",
      "10000/10000 [==============================] - 0s 48us/sample - loss: 190.0378\n",
      "Epoch 27/50\n",
      "10000/10000 [==============================] - 0s 49us/sample - loss: 179.6948\n",
      "Epoch 28/50\n",
      "10000/10000 [==============================] - 0s 49us/sample - loss: 175.2395\n",
      "Epoch 29/50\n",
      "10000/10000 [==============================] - 0s 50us/sample - loss: 175.2061\n",
      "Epoch 30/50\n",
      "10000/10000 [==============================] - 0s 49us/sample - loss: 186.8265\n",
      "Epoch 31/50\n",
      "10000/10000 [==============================] - 0s 50us/sample - loss: 175.5860\n",
      "Epoch 32/50\n",
      "10000/10000 [==============================] - 0s 49us/sample - loss: 175.4795\n",
      "Epoch 33/50\n",
      "10000/10000 [==============================] - 0s 49us/sample - loss: 171.3161\n",
      "Epoch 34/50\n",
      "10000/10000 [==============================] - 0s 49us/sample - loss: 184.2146\n",
      "Epoch 35/50\n",
      "10000/10000 [==============================] - 0s 50us/sample - loss: 170.2974\n",
      "Epoch 36/50\n",
      "10000/10000 [==============================] - 0s 48us/sample - loss: 166.4766\n",
      "Epoch 37/50\n",
      "10000/10000 [==============================] - 0s 49us/sample - loss: 174.1204\n",
      "Epoch 38/50\n",
      "10000/10000 [==============================] - 0s 50us/sample - loss: 199.5226\n",
      "Epoch 39/50\n",
      "10000/10000 [==============================] - 0s 48us/sample - loss: 175.8598\n",
      "Epoch 40/50\n",
      "10000/10000 [==============================] - 0s 48us/sample - loss: 180.1870\n",
      "Epoch 41/50\n",
      "10000/10000 [==============================] - 0s 48us/sample - loss: 170.9739\n",
      "Epoch 42/50\n",
      "10000/10000 [==============================] - 0s 48us/sample - loss: 176.5261\n",
      "Epoch 43/50\n",
      "10000/10000 [==============================] - 0s 49us/sample - loss: 175.3422\n",
      "Epoch 44/50\n",
      "10000/10000 [==============================] - 0s 49us/sample - loss: 180.4022\n",
      "Epoch 45/50\n",
      "10000/10000 [==============================] - 0s 50us/sample - loss: 175.2456\n",
      "Epoch 46/50\n",
      "10000/10000 [==============================] - 0s 50us/sample - loss: 181.5622\n",
      "Epoch 47/50\n",
      "10000/10000 [==============================] - ETA: 0s - loss: 180.221 - 0s 49us/sample - loss: 181.1205\n",
      "Epoch 48/50\n",
      "10000/10000 [==============================] - 0s 48us/sample - loss: 184.9274\n",
      "Epoch 49/50\n",
      "10000/10000 [==============================] - 0s 49us/sample - loss: 176.2414\n",
      "Epoch 50/50\n",
      "10000/10000 [==============================] - 1s 50us/sample - loss: 186.44560s - loss: \n"
     ]
    },
    {
     "data": {
      "text/plain": [
       "<tensorflow.python.keras.callbacks.History at 0x20430cede48>"
      ]
     },
     "execution_count": 36,
     "metadata": {},
     "output_type": "execute_result"
    }
   ],
   "source": [
    "model.fit(X,y_true,epochs=50)"
   ]
  },
  {
   "cell_type": "code",
   "execution_count": 37,
   "metadata": {},
   "outputs": [
    {
     "data": {
      "text/plain": [
       "array([[223.61765],\n",
       "       [184.28305],\n",
       "       [225.66074],\n",
       "       ...,\n",
       "       [146.12259],\n",
       "       [186.24258],\n",
       "       [131.18317]], dtype=float32)"
      ]
     },
     "execution_count": 37,
     "metadata": {},
     "output_type": "execute_result"
    }
   ],
   "source": [
    "y_pred_deep_learning=model.predict(X)\n",
    "y_pred_deep_learning"
   ]
  },
  {
   "cell_type": "code",
   "execution_count": 38,
   "metadata": {},
   "outputs": [
    {
     "data": {
      "text/plain": [
       "[<matplotlib.lines.Line2D at 0x20431152ec8>]"
      ]
     },
     "execution_count": 38,
     "metadata": {},
     "output_type": "execute_result"
    },
    {
     "data": {
      "image/png": "[encoded data removed]",
      "text/plain": [
       "<Figure size 432x288 with 1 Axes>"
      ]
     },
     "metadata": {
      "needs_background": "light"
     },
     "output_type": "display_data"
    }
   ],
   "source": [
    "import matplotlib.pyplot as plt\n",
    "df.plot(kind='scatter',\n",
    "       x='Height',\n",
    "       y='Weight',\n",
    "       title=' h vs w')\n",
    "plt.plot(X,y_pred_deep_learning, color='red',linewidth=3)"
   ]
  },
  {
   "cell_type": "code",
   "execution_count": 39,
   "metadata": {},
   "outputs": [
    {
     "name": "stdout",
     "output_type": "stream",
     "text": [
      "[[7.765794]] [-349.86307]\n"
     ]
    }
   ],
   "source": [
    "w,b=model.get_weights()\n",
    "print(w,b)"
   ]
  },
  {
   "cell_type": "code",
   "execution_count": 40,
   "metadata": {},
   "outputs": [
    {
     "data": {
      "text/plain": [
       "array([[1203.2958]], dtype=float32)"
      ]
     },
     "execution_count": 40,
     "metadata": {},
     "output_type": "execute_result"
    }
   ],
   "source": [
    "model.predict([[200]])#its prediction"
   ]
  },
  {
   "cell_type": "code",
   "execution_count": 41,
   "metadata": {
    "scrolled": true
   },
   "outputs": [
    {
     "ename": "NameError",
     "evalue": "name 'network' is not defined",
     "output_type": "error",
     "traceback": [
      "\u001b[1;31m---------------------------------------------------------------------------\u001b[0m",
      "\u001b[1;31mNameError\u001b[0m                                 Traceback (most recent call last)",
      "\u001b[1;32m<ipython-input-41-80634d9de101>\u001b[0m in \u001b[0;36m<module>\u001b[1;34m\u001b[0m\n\u001b[1;32m----> 1\u001b[1;33m network.compile(optimizer='rmsprop',\n\u001b[0m\u001b[0;32m      2\u001b[0m \u001b[0mloss\u001b[0m\u001b[1;33m=\u001b[0m\u001b[1;34m'categorical_crossentropy'\u001b[0m\u001b[1;33m,\u001b[0m\u001b[1;33m\u001b[0m\u001b[1;33m\u001b[0m\u001b[0m\n\u001b[0;32m      3\u001b[0m metrics=['accuracy'])\n",
      "\u001b[1;31mNameError\u001b[0m: name 'network' is not defined"
     ]
    }
   ],
   "source": []
  },
  {
   "cell_type": "code",
   "execution_count": 42,
   "metadata": {},
   "outputs": [
    {
     "ename": "NameError",
     "evalue": "name 'train_images' is not defined",
     "output_type": "error",
     "traceback": [
      "\u001b[1;31m---------------------------------------------------------------------------\u001b[0m",
      "\u001b[1;31mNameError\u001b[0m                                 Traceback (most recent call last)",
      "\u001b[1;32m<ipython-input-42-8f42cfd3404a>\u001b[0m in \u001b[0;36m<module>\u001b[1;34m\u001b[0m\n\u001b[1;32m----> 1\u001b[1;33m \u001b[0mtrain_images\u001b[0m \u001b[1;33m=\u001b[0m \u001b[0mtrain_images\u001b[0m\u001b[1;33m.\u001b[0m\u001b[0mreshape\u001b[0m\u001b[1;33m(\u001b[0m\u001b[1;33m(\u001b[0m\u001b[1;36m60000\u001b[0m\u001b[1;33m,\u001b[0m \u001b[1;36m28\u001b[0m \u001b[1;33m*\u001b[0m \u001b[1;36m28\u001b[0m\u001b[1;33m)\u001b[0m\u001b[1;33m)\u001b[0m\u001b[1;33m\u001b[0m\u001b[1;33m\u001b[0m\u001b[0m\n\u001b[0m\u001b[0;32m      2\u001b[0m \u001b[0mtrain_images\u001b[0m \u001b[1;33m=\u001b[0m \u001b[0mtrain_images\u001b[0m\u001b[1;33m.\u001b[0m\u001b[0mastype\u001b[0m\u001b[1;33m(\u001b[0m\u001b[1;34m'float32'\u001b[0m\u001b[1;33m)\u001b[0m \u001b[1;33m/\u001b[0m \u001b[1;36m255\u001b[0m\u001b[1;33m\u001b[0m\u001b[1;33m\u001b[0m\u001b[0m\n\u001b[0;32m      3\u001b[0m \u001b[0mtest_images\u001b[0m \u001b[1;33m=\u001b[0m \u001b[0mtest_images\u001b[0m\u001b[1;33m.\u001b[0m\u001b[0mreshape\u001b[0m\u001b[1;33m(\u001b[0m\u001b[1;33m(\u001b[0m\u001b[1;36m10000\u001b[0m\u001b[1;33m,\u001b[0m \u001b[1;36m28\u001b[0m \u001b[1;33m*\u001b[0m \u001b[1;36m28\u001b[0m\u001b[1;33m)\u001b[0m\u001b[1;33m)\u001b[0m\u001b[1;33m\u001b[0m\u001b[1;33m\u001b[0m\u001b[0m\n\u001b[0;32m      4\u001b[0m \u001b[0mtest_images\u001b[0m \u001b[1;33m=\u001b[0m \u001b[0mtest_images\u001b[0m\u001b[1;33m.\u001b[0m\u001b[0mastype\u001b[0m\u001b[1;33m(\u001b[0m\u001b[1;34m'float32'\u001b[0m\u001b[1;33m)\u001b[0m \u001b[1;33m/\u001b[0m \u001b[1;36m255\u001b[0m\u001b[1;33m\u001b[0m\u001b[1;33m\u001b[0m\u001b[0m\n",
      "\u001b[1;31mNameError\u001b[0m: name 'train_images' is not defined"
     ]
    }
   ],
   "source": [
    "train_images = train_images.reshape((60000, 28 * 28))\n",
    "train_images = train_images.astype('float32') / 255\n",
    "test_images = test_images.reshape((10000, 28 * 28))\n",
    "test_images = test_images.astype('float32') / 255"
   ]
  },
  {
   "cell_type": "code",
   "execution_count": 43,
   "metadata": {},
   "outputs": [
    {
     "ename": "NameError",
     "evalue": "name 'train_labels' is not defined",
     "output_type": "error",
     "traceback": [
      "\u001b[1;31m---------------------------------------------------------------------------\u001b[0m",
      "\u001b[1;31mNameError\u001b[0m                                 Traceback (most recent call last)",
      "\u001b[1;32m<ipython-input-43-48ed259ad2fc>\u001b[0m in \u001b[0;36m<module>\u001b[1;34m\u001b[0m\n\u001b[1;32m----> 1\u001b[1;33m \u001b[0mtrain_labels\u001b[0m\u001b[1;33m[\u001b[0m\u001b[1;36m0\u001b[0m\u001b[1;33m]\u001b[0m\u001b[1;33m\u001b[0m\u001b[1;33m\u001b[0m\u001b[0m\n\u001b[0m",
      "\u001b[1;31mNameError\u001b[0m: name 'train_labels' is not defined"
     ]
    }
   ],
   "source": [
    "train_labels[0]"
   ]
  },
  {
   "cell_type": "code",
   "execution_count": null,
   "metadata": {},
   "outputs": [],
   "source": []
  }
 ],
 "metadata": {
  "kernelspec": {
   "display_name": "Python 3",
   "language": "python",
   "name": "python3"
  },
  "language_info": {
   "codemirror_mode": {
    "name": "ipython",
    "version": 3
   },
   "file_extension": ".py",
   "mimetype": "text/x-python",
   "name": "python",
   "nbconvert_exporter": "python",
   "pygments_lexer": "ipython3",
   "version": "3.7.7"
  }
 },
 "nbformat": 4,
 "nbformat_minor": 4
}
