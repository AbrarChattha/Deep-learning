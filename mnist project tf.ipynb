{
 "cells": [
  {
   "cell_type": "code",
   "execution_count": 1,
   "metadata": {},
   "outputs": [],
   "source": [
    "#from tensorflow.keras.datasets import mnist# als0 data available fash ion nmist\n",
    "#(train_images,train_labels),(test_images,test_labels)=mnist.load_data()"
   ]
  },
  {
   "cell_type": "code",
   "execution_count": 3,
   "metadata": {},
   "outputs": [],
   "source": [
    "from tensorflow.keras.datasets import fashion_mnist\n",
    "(train_images,train_labels),(test_images,test_labels) = fashion_mnist.load_data()"
   ]
  },
  {
   "cell_type": "code",
   "execution_count": 4,
   "metadata": {},
   "outputs": [
    {
     "name": "stdout",
     "output_type": "stream",
     "text": [
      "60000\n"
     ]
    }
   ],
   "source": [
    "print(len(train_images))"
   ]
  },
  {
   "cell_type": "code",
   "execution_count": 5,
   "metadata": {},
   "outputs": [
    {
     "name": "stdout",
     "output_type": "stream",
     "text": [
      "10000\n"
     ]
    }
   ],
   "source": [
    "print(len(test_images))"
   ]
  },
  {
   "cell_type": "code",
   "execution_count": 6,
   "metadata": {},
   "outputs": [
    {
     "data": {
      "text/plain": [
       "array([[  0,   0,   0,   0,   0,   0,   0,   0,   0,   0,   0,   0,   0,\n",
       "          0,   0,   0,   0,   0,   0,   0,   0,   0,   0,   0,   0,   0,\n",
       "          0,   0],\n",
       "       [  0,   0,   0,   0,   0,   0,   0,   0,   0,   0,   0,   0,   0,\n",
       "          0,   0,   0,   0,   0,   0,   0,   0,   0,   0,   0,   0,   0,\n",
       "          0,   0],\n",
       "       [  0,   0,   0,   0,   0,   0,   0,   0,   0,   0,   0,   0,   0,\n",
       "          0,   0,   0,   0,   0,   0,   0,   0,   0,   0,   0,   0,   0,\n",
       "          0,   0],\n",
       "       [  0,   0,   0,   0,   0,   0,   0,   0,   0,   0,   0,   0,   1,\n",
       "          0,   0,  13,  73,   0,   0,   1,   4,   0,   0,   0,   0,   1,\n",
       "          1,   0],\n",
       "       [  0,   0,   0,   0,   0,   0,   0,   0,   0,   0,   0,   0,   3,\n",
       "          0,  36, 136, 127,  62,  54,   0,   0,   0,   1,   3,   4,   0,\n",
       "          0,   3],\n",
       "       [  0,   0,   0,   0,   0,   0,   0,   0,   0,   0,   0,   0,   6,\n",
       "          0, 102, 204, 176, 134, 144, 123,  23,   0,   0,   0,   0,  12,\n",
       "         10,   0],\n",
       "       [  0,   0,   0,   0,   0,   0,   0,   0,   0,   0,   0,   0,   0,\n",
       "          0, 155, 236, 207, 178, 107, 156, 161, 109,  64,  23,  77, 130,\n",
       "         72,  15],\n",
       "       [  0,   0,   0,   0,   0,   0,   0,   0,   0,   0,   0,   1,   0,\n",
       "         69, 207, 223, 218, 216, 216, 163, 127, 121, 122, 146, 141,  88,\n",
       "        172,  66],\n",
       "       [  0,   0,   0,   0,   0,   0,   0,   0,   0,   1,   1,   1,   0,\n",
       "        200, 232, 232, 233, 229, 223, 223, 215, 213, 164, 127, 123, 196,\n",
       "        229,   0],\n",
       "       [  0,   0,   0,   0,   0,   0,   0,   0,   0,   0,   0,   0,   0,\n",
       "        183, 225, 216, 223, 228, 235, 227, 224, 222, 224, 221, 223, 245,\n",
       "        173,   0],\n",
       "       [  0,   0,   0,   0,   0,   0,   0,   0,   0,   0,   0,   0,   0,\n",
       "        193, 228, 218, 213, 198, 180, 212, 210, 211, 213, 223, 220, 243,\n",
       "        202,   0],\n",
       "       [  0,   0,   0,   0,   0,   0,   0,   0,   0,   1,   3,   0,  12,\n",
       "        219, 220, 212, 218, 192, 169, 227, 208, 218, 224, 212, 226, 197,\n",
       "        209,  52],\n",
       "       [  0,   0,   0,   0,   0,   0,   0,   0,   0,   0,   6,   0,  99,\n",
       "        244, 222, 220, 218, 203, 198, 221, 215, 213, 222, 220, 245, 119,\n",
       "        167,  56],\n",
       "       [  0,   0,   0,   0,   0,   0,   0,   0,   0,   4,   0,   0,  55,\n",
       "        236, 228, 230, 228, 240, 232, 213, 218, 223, 234, 217, 217, 209,\n",
       "         92,   0],\n",
       "       [  0,   0,   1,   4,   6,   7,   2,   0,   0,   0,   0,   0, 237,\n",
       "        226, 217, 223, 222, 219, 222, 221, 216, 223, 229, 215, 218, 255,\n",
       "         77,   0],\n",
       "       [  0,   3,   0,   0,   0,   0,   0,   0,   0,  62, 145, 204, 228,\n",
       "        207, 213, 221, 218, 208, 211, 218, 224, 223, 219, 215, 224, 244,\n",
       "        159,   0],\n",
       "       [  0,   0,   0,   0,  18,  44,  82, 107, 189, 228, 220, 222, 217,\n",
       "        226, 200, 205, 211, 230, 224, 234, 176, 188, 250, 248, 233, 238,\n",
       "        215,   0],\n",
       "       [  0,  57, 187, 208, 224, 221, 224, 208, 204, 214, 208, 209, 200,\n",
       "        159, 245, 193, 206, 223, 255, 255, 221, 234, 221, 211, 220, 232,\n",
       "        246,   0],\n",
       "       [  3, 202, 228, 224, 221, 211, 211, 214, 205, 205, 205, 220, 240,\n",
       "         80, 150, 255, 229, 221, 188, 154, 191, 210, 204, 209, 222, 228,\n",
       "        225,   0],\n",
       "       [ 98, 233, 198, 210, 222, 229, 229, 234, 249, 220, 194, 215, 217,\n",
       "        241,  65,  73, 106, 117, 168, 219, 221, 215, 217, 223, 223, 224,\n",
       "        229,  29],\n",
       "       [ 75, 204, 212, 204, 193, 205, 211, 225, 216, 185, 197, 206, 198,\n",
       "        213, 240, 195, 227, 245, 239, 223, 218, 212, 209, 222, 220, 221,\n",
       "        230,  67],\n",
       "       [ 48, 203, 183, 194, 213, 197, 185, 190, 194, 192, 202, 214, 219,\n",
       "        221, 220, 236, 225, 216, 199, 206, 186, 181, 177, 172, 181, 205,\n",
       "        206, 115],\n",
       "       [  0, 122, 219, 193, 179, 171, 183, 196, 204, 210, 213, 207, 211,\n",
       "        210, 200, 196, 194, 191, 195, 191, 198, 192, 176, 156, 167, 177,\n",
       "        210,  92],\n",
       "       [  0,   0,  74, 189, 212, 191, 175, 172, 175, 181, 185, 188, 189,\n",
       "        188, 193, 198, 204, 209, 210, 210, 211, 188, 188, 194, 192, 216,\n",
       "        170,   0],\n",
       "       [  2,   0,   0,   0,  66, 200, 222, 237, 239, 242, 246, 243, 244,\n",
       "        221, 220, 193, 191, 179, 182, 182, 181, 176, 166, 168,  99,  58,\n",
       "          0,   0],\n",
       "       [  0,   0,   0,   0,   0,   0,   0,  40,  61,  44,  72,  41,  35,\n",
       "          0,   0,   0,   0,   0,   0,   0,   0,   0,   0,   0,   0,   0,\n",
       "          0,   0],\n",
       "       [  0,   0,   0,   0,   0,   0,   0,   0,   0,   0,   0,   0,   0,\n",
       "          0,   0,   0,   0,   0,   0,   0,   0,   0,   0,   0,   0,   0,\n",
       "          0,   0],\n",
       "       [  0,   0,   0,   0,   0,   0,   0,   0,   0,   0,   0,   0,   0,\n",
       "          0,   0,   0,   0,   0,   0,   0,   0,   0,   0,   0,   0,   0,\n",
       "          0,   0]], dtype=uint8)"
      ]
     },
     "execution_count": 6,
     "metadata": {},
     "output_type": "execute_result"
    }
   ],
   "source": [
    "train_images[0]"
   ]
  },
  {
   "cell_type": "code",
   "execution_count": 7,
   "metadata": {},
   "outputs": [
    {
     "data": {
      "text/plain": [
       "(60000, 28, 28)"
      ]
     },
     "execution_count": 7,
     "metadata": {},
     "output_type": "execute_result"
    }
   ],
   "source": [
    "train_images.shape"
   ]
  },
  {
   "cell_type": "code",
   "execution_count": 8,
   "metadata": {},
   "outputs": [
    {
     "data": {
      "text/plain": [
       "8"
      ]
     },
     "execution_count": 8,
     "metadata": {},
     "output_type": "execute_result"
    }
   ],
   "source": [
    "i=100\n",
    "d=train_images[i]\n",
    "label=train_labels[i]\n",
    "label"
   ]
  },
  {
   "cell_type": "code",
   "execution_count": 9,
   "metadata": {},
   "outputs": [
    {
     "data": {
      "image/png": "[encoded data removed]",
      "text/plain": [
       "<Figure size 432x288 with 1 Axes>"
      ]
     },
     "metadata": {
      "needs_background": "light"
     },
     "output_type": "display_data"
    }
   ],
   "source": [
    "import matplotlib.pyplot as plt\n",
    "plt.imshow(d,cmap=plt.cm.binary)\n",
    "plt.show()"
   ]
  },
  {
   "cell_type": "code",
   "execution_count": 10,
   "metadata": {},
   "outputs": [
    {
     "name": "stderr",
     "output_type": "stream",
     "text": [
      "Using TensorFlow backend.\n"
     ]
    }
   ],
   "source": [
    "from keras import models\n",
    "from keras import layers\n",
    "network = models.Sequential( )\n",
    "network.add(layers.Dense(512, activation='relu', input_shape=(28 * 28,)))\n",
    "network.add(layers.Dense(10, activation='softmax'))"
   ]
  },
  {
   "cell_type": "code",
   "execution_count": 11,
   "metadata": {},
   "outputs": [],
   "source": [
    "network.compile(optimizer='rmsprop',\n",
    "loss='categorical_crossentropy',\n",
    "metrics=['accuracy'])"
   ]
  },
  {
   "cell_type": "code",
   "execution_count": 12,
   "metadata": {},
   "outputs": [],
   "source": [
    "train_images = train_images.reshape((60000, 28 * 28))\n",
    "train_images = train_images.astype('float32') / 255#normalize\n",
    "test_images = test_images.reshape((10000, 28 * 28))\n",
    "test_images = test_images.astype('float32') / 255"
   ]
  },
  {
   "cell_type": "code",
   "execution_count": 13,
   "metadata": {},
   "outputs": [
    {
     "data": {
      "text/plain": [
       "array([[0.        , 0.        , 0.        , 0.        , 0.        ,\n",
       "        0.        , 0.        , 0.        , 0.        , 0.00392157,\n",
       "        0.        , 0.        , 0.07058824, 0.41960784, 0.46666667,\n",
       "        0.40392157, 0.03529412, 0.        , 0.        , 0.        ,\n",
       "        0.        , 0.        , 0.        , 0.        , 0.        ,\n",
       "        0.        , 0.        , 0.        ],\n",
       "       [0.        , 0.        , 0.        , 0.        , 0.        ,\n",
       "        0.        , 0.        , 0.        , 0.        , 0.        ,\n",
       "        0.        , 0.38823529, 0.60784314, 0.44313725, 0.23921569,\n",
       "        0.4627451 , 0.67843137, 0.45882353, 0.        , 0.        ,\n",
       "        0.01176471, 0.        , 0.        , 0.        , 0.        ,\n",
       "        0.        , 0.        , 0.        ],\n",
       "       [0.        , 0.        , 0.        , 0.        , 0.        ,\n",
       "        0.        , 0.        , 0.        , 0.00392157, 0.        ,\n",
       "        0.43137255, 0.53333333, 0.        , 0.        , 0.        ,\n",
       "        0.        , 0.        , 0.65490196, 0.62352941, 0.        ,\n",
       "        0.        , 0.00784314, 0.        , 0.        , 0.        ,\n",
       "        0.        , 0.        , 0.        ],\n",
       "       [0.        , 0.        , 0.        , 0.        , 0.        ,\n",
       "        0.00392157, 0.        , 0.02352941, 0.        , 0.28235294,\n",
       "        0.57647059, 0.        , 0.        , 0.01960784, 0.        ,\n",
       "        0.00784314, 0.        , 0.        , 0.68235294, 0.4627451 ,\n",
       "        0.        , 0.01960784, 0.        , 0.        , 0.        ,\n",
       "        0.        , 0.        , 0.        ],\n",
       "       [0.        , 0.        , 0.        , 0.        , 0.        ,\n",
       "        0.00392157, 0.01960784, 0.        , 0.        , 0.68235294,\n",
       "        0.01568627, 0.        , 0.01568627, 0.        , 0.        ,\n",
       "        0.        , 0.        , 0.        , 0.        , 0.8       ,\n",
       "        0.17254902, 0.        , 0.01568627, 0.        , 0.        ,\n",
       "        0.        , 0.        , 0.        ],\n",
       "       [0.        , 0.        , 0.        , 0.        , 0.        ,\n",
       "        0.        , 0.03137255, 0.        , 0.49019608, 0.50196078,\n",
       "        0.        , 0.03529412, 0.        , 0.        , 0.        ,\n",
       "        0.        , 0.        , 0.00784314, 0.        , 0.41960784,\n",
       "        0.59607843, 0.        , 0.02352941, 0.        , 0.        ,\n",
       "        0.        , 0.        , 0.        ],\n",
       "       [0.        , 0.        , 0.        , 0.        , 0.        ,\n",
       "        0.        , 0.        , 0.        , 0.72156863, 0.03529412,\n",
       "        0.        , 0.01568627, 0.        , 0.        , 0.        ,\n",
       "        0.        , 0.        , 0.00784314, 0.        , 0.        ,\n",
       "        0.74509804, 0.        , 0.        , 0.00784314, 0.        ,\n",
       "        0.        , 0.        , 0.        ],\n",
       "       [0.        , 0.        , 0.        , 0.00392157, 0.        ,\n",
       "        0.00784314, 0.        , 0.28627451, 0.61960784, 0.        ,\n",
       "        0.        , 0.        , 0.        , 0.00392157, 0.        ,\n",
       "        0.        , 0.        , 0.        , 0.01568627, 0.        ,\n",
       "        0.61568627, 0.30980392, 0.        , 0.01176471, 0.00392157,\n",
       "        0.        , 0.        , 0.        ],\n",
       "       [0.        , 0.        , 0.00784314, 0.01960784, 0.00392157,\n",
       "        0.        , 0.        , 0.61568627, 0.38431373, 0.        ,\n",
       "        0.00784314, 0.        , 0.        , 0.00392157, 0.        ,\n",
       "        0.        , 0.        , 0.        , 0.01960784, 0.        ,\n",
       "        0.4745098 , 0.56862745, 0.        , 0.        , 0.        ,\n",
       "        0.        , 0.        , 0.        ],\n",
       "       [0.        , 0.        , 0.        , 0.        , 0.        ,\n",
       "        0.        , 0.        , 0.90588235, 0.32941176, 0.        ,\n",
       "        0.00784314, 0.00392157, 0.00392157, 0.        , 0.        ,\n",
       "        0.        , 0.        , 0.        , 0.00392157, 0.        ,\n",
       "        0.36078431, 0.8745098 , 0.0627451 , 0.        , 0.02745098,\n",
       "        0.01568627, 0.00392157, 0.        ],\n",
       "       [0.        , 0.        , 0.        , 0.        , 0.        ,\n",
       "        0.        , 0.14901961, 0.71764706, 0.31764706, 0.        ,\n",
       "        0.        , 0.        , 0.00784314, 0.00784314, 0.00392157,\n",
       "        0.00784314, 0.00392157, 0.        , 0.00392157, 0.        ,\n",
       "        0.47058824, 0.88627451, 0.22352941, 0.        , 0.        ,\n",
       "        0.        , 0.        , 0.        ],\n",
       "       [0.        , 0.        , 0.67843137, 0.84705882, 0.75686275,\n",
       "        0.83529412, 0.71764706, 0.64313725, 0.65490196, 0.38431373,\n",
       "        0.0627451 , 0.        , 0.        , 0.        , 0.        ,\n",
       "        0.        , 0.        , 0.        , 0.        , 0.        ,\n",
       "        0.41960784, 0.55294118, 0.43529412, 0.35686275, 0.35294118,\n",
       "        0.42352941, 0.19607843, 0.        ],\n",
       "       [0.        , 0.        , 0.7254902 , 0.86666667, 0.85098039,\n",
       "        0.82352941, 0.79215686, 0.87058824, 0.78431373, 0.80784314,\n",
       "        0.79215686, 0.8       , 0.42745098, 0.10588235, 0.04705882,\n",
       "        0.06666667, 0.23921569, 0.53333333, 0.70588235, 0.86666667,\n",
       "        0.79215686, 0.88235294, 0.81568627, 0.83921569, 0.8745098 ,\n",
       "        0.94117647, 0.63529412, 0.        ],\n",
       "       [0.        , 0.        , 0.71764706, 0.8627451 , 0.80392157,\n",
       "        0.78431373, 0.75686275, 0.72156863, 0.74117647, 0.71372549,\n",
       "        0.67843137, 0.76078431, 0.84313725, 0.84705882, 0.80392157,\n",
       "        0.81176471, 0.81176471, 0.76470588, 0.7254902 , 0.76078431,\n",
       "        0.76078431, 0.79607843, 0.83137255, 0.71764706, 0.75686275,\n",
       "        0.82745098, 0.6       , 0.        ],\n",
       "       [0.        , 0.        , 0.74509804, 0.91372549, 0.79607843,\n",
       "        0.80784314, 0.83921569, 0.84705882, 0.76470588, 0.71764706,\n",
       "        0.69019608, 0.62352941, 0.68627451, 0.74117647, 0.79215686,\n",
       "        0.76470588, 0.72941176, 0.72941176, 0.71372549, 0.72941176,\n",
       "        0.76470588, 0.81960784, 0.92156863, 0.79607843, 0.79215686,\n",
       "        0.84313725, 0.53333333, 0.        ],\n",
       "       [0.        , 0.        , 0.70588235, 0.89411765, 0.78823529,\n",
       "        0.79215686, 0.7372549 , 0.71764706, 0.69803922, 0.75294118,\n",
       "        0.72941176, 0.70980392, 0.70980392, 0.69411765, 0.8       ,\n",
       "        0.85098039, 0.68627451, 0.70196078, 0.72156863, 0.69019608,\n",
       "        0.65098039, 0.6627451 , 0.68627451, 0.7254902 , 0.59607843,\n",
       "        0.79607843, 0.41960784, 0.        ],\n",
       "       [0.        , 0.        , 0.65490196, 0.92156863, 0.78431373,\n",
       "        0.81176471, 0.81176471, 0.81960784, 0.81176471, 0.79607843,\n",
       "        0.77647059, 0.74117647, 0.71372549, 0.69803922, 0.72941176,\n",
       "        0.74117647, 0.69803922, 0.75294118, 0.77254902, 0.76470588,\n",
       "        0.75294118, 0.7254902 , 0.72156863, 0.80392157, 0.73333333,\n",
       "        1.        , 0.23921569, 0.        ],\n",
       "       [0.        , 0.        , 0.59607843, 0.98039216, 0.81568627,\n",
       "        0.83921569, 0.81960784, 0.79215686, 0.78431373, 0.79215686,\n",
       "        0.80392157, 0.8       , 0.78431373, 0.75294118, 0.77647059,\n",
       "        0.8       , 0.76470588, 0.80392157, 0.80784314, 0.77647059,\n",
       "        0.78039216, 0.79607843, 0.83921569, 0.81176471, 0.70196078,\n",
       "        0.97647059, 0.21568627, 0.        ],\n",
       "       [0.        , 0.        , 0.49411765, 1.        , 0.82745098,\n",
       "        0.84313725, 0.82352941, 0.80784314, 0.79607843, 0.79607843,\n",
       "        0.79607843, 0.80784314, 0.8       , 0.78039216, 0.80784314,\n",
       "        0.81176471, 0.78431373, 0.80784314, 0.78823529, 0.78039216,\n",
       "        0.79215686, 0.81568627, 0.84313725, 0.76470588, 0.68235294,\n",
       "        0.82745098, 0.05882353, 0.        ],\n",
       "       [0.        , 0.        , 0.41960784, 1.        , 0.83137255,\n",
       "        0.82745098, 0.82352941, 0.82745098, 0.81568627, 0.80784314,\n",
       "        0.80784314, 0.81176471, 0.81568627, 0.81568627, 0.85098039,\n",
       "        0.83921569, 0.80392157, 0.80784314, 0.8       , 0.81568627,\n",
       "        0.82745098, 0.82745098, 0.8627451 , 0.77254902, 0.71372549,\n",
       "        0.88235294, 0.        , 0.        ],\n",
       "       [0.        , 0.        , 0.24705882, 0.90980392, 0.82745098,\n",
       "        0.84705882, 0.83137255, 0.83921569, 0.83137255, 0.83137255,\n",
       "        0.83921569, 0.83137255, 0.82745098, 0.83137255, 0.8745098 ,\n",
       "        0.85882353, 0.82352941, 0.83921569, 0.83529412, 0.83137255,\n",
       "        0.82745098, 0.81960784, 0.85098039, 0.81568627, 0.65882353,\n",
       "        0.74509804, 0.        , 0.        ],\n",
       "       [0.        , 0.        , 0.05490196, 1.        , 0.85490196,\n",
       "        0.86666667, 0.84313725, 0.85490196, 0.85490196, 0.85098039,\n",
       "        0.84313725, 0.83529412, 0.82745098, 0.84313725, 0.89411765,\n",
       "        0.8627451 , 0.84705882, 0.87058824, 0.85098039, 0.85098039,\n",
       "        0.84705882, 0.85490196, 0.83137255, 0.83529412, 0.74117647,\n",
       "        0.56078431, 0.        , 0.        ],\n",
       "       [0.        , 0.        , 0.        , 0.90196078, 0.89019608,\n",
       "        0.83921569, 0.85098039, 0.85490196, 0.84705882, 0.85098039,\n",
       "        0.85098039, 0.83921569, 0.84705882, 0.87058824, 0.88627451,\n",
       "        0.85490196, 0.85490196, 0.8627451 , 0.85882353, 0.85490196,\n",
       "        0.85098039, 0.85490196, 0.85098039, 0.84313725, 0.84705882,\n",
       "        0.44313725, 0.        , 0.        ],\n",
       "       [0.        , 0.        , 0.        , 0.69411765, 0.91372549,\n",
       "        0.84705882, 0.8745098 , 0.87058824, 0.83529412, 0.83529412,\n",
       "        0.84313725, 0.83137255, 0.8627451 , 0.88627451, 0.86666667,\n",
       "        0.8627451 , 0.86666667, 0.85490196, 0.87058824, 0.8627451 ,\n",
       "        0.8627451 , 0.86666667, 0.85098039, 0.83137255, 0.85882353,\n",
       "        0.20392157, 0.        , 0.        ],\n",
       "       [0.        , 0.        , 0.        , 0.03921569, 0.8745098 ,\n",
       "        0.87058824, 0.8627451 , 0.82745098, 0.83529412, 0.84313725,\n",
       "        0.8627451 , 0.87058824, 0.88627451, 0.88627451, 0.86666667,\n",
       "        0.8745098 , 0.87058824, 0.87058824, 0.86666667, 0.85490196,\n",
       "        0.8627451 , 0.85882353, 0.8627451 , 0.8745098 , 0.68235294,\n",
       "        0.        , 0.        , 0.        ],\n",
       "       [0.        , 0.        , 0.        , 0.        , 0.49411765,\n",
       "        0.94509804, 0.81568627, 0.82352941, 0.83921569, 0.83921569,\n",
       "        0.84705882, 0.84705882, 0.8627451 , 0.8627451 , 0.83921569,\n",
       "        0.83529412, 0.83137255, 0.83137255, 0.82352941, 0.84313725,\n",
       "        0.85098039, 0.85490196, 0.84313725, 0.9254902 , 0.16470588,\n",
       "        0.        , 0.00392157, 0.        ],\n",
       "       [0.        , 0.        , 0.        , 0.        , 0.        ,\n",
       "        0.7372549 , 0.92941176, 0.90196078, 0.91372549, 1.        ,\n",
       "        1.        , 1.        , 1.        , 1.        , 1.        ,\n",
       "        1.        , 1.        , 1.        , 1.        , 1.        ,\n",
       "        0.90588235, 0.89803922, 0.9372549 , 0.63137255, 0.        ,\n",
       "        0.        , 0.        , 0.        ],\n",
       "       [0.        , 0.        , 0.        , 0.        , 0.        ,\n",
       "        0.        , 0.24705882, 0.37254902, 0.42352941, 0.41176471,\n",
       "        0.39215686, 0.40392157, 0.40784314, 0.41176471, 0.4       ,\n",
       "        0.39215686, 0.38431373, 0.38039216, 0.37647059, 0.35294118,\n",
       "        0.31372549, 0.3254902 , 0.23529412, 0.        , 0.        ,\n",
       "        0.        , 0.        , 0.        ]])"
      ]
     },
     "execution_count": 13,
     "metadata": {},
     "output_type": "execute_result"
    }
   ],
   "source": [
    "d/255"
   ]
  },
  {
   "cell_type": "code",
   "execution_count": 14,
   "metadata": {},
   "outputs": [],
   "source": [
    "from keras.utils import to_categorical\n",
    "train_labels = to_categorical(train_labels)\n",
    "test_labels = to_categorical(test_labels)"
   ]
  },
  {
   "cell_type": "code",
   "execution_count": 15,
   "metadata": {},
   "outputs": [
    {
     "data": {
      "text/plain": [
       "array([[0., 0., 0., ..., 0., 0., 1.],\n",
       "       [1., 0., 0., ..., 0., 0., 0.],\n",
       "       [1., 0., 0., ..., 0., 0., 0.],\n",
       "       ...,\n",
       "       [0., 0., 0., ..., 0., 0., 0.],\n",
       "       [1., 0., 0., ..., 0., 0., 0.],\n",
       "       [0., 0., 0., ..., 0., 0., 0.]], dtype=float32)"
      ]
     },
     "execution_count": 15,
     "metadata": {},
     "output_type": "execute_result"
    }
   ],
   "source": [
    "train_labels# one hot incode its converd in catogorical error"
   ]
  },
  {
   "cell_type": "code",
   "execution_count": 16,
   "metadata": {},
   "outputs": [
    {
     "name": "stdout",
     "output_type": "stream",
     "text": [
      "Epoch 1/5\n",
      "60000/60000 [==============================] - 10s 164us/step - loss: 0.5577 - accuracy: 0.8029\n",
      "Epoch 2/5\n",
      "60000/60000 [==============================] - 7s 122us/step - loss: 0.3833 - accuracy: 0.8586\n",
      "Epoch 3/5\n",
      "60000/60000 [==============================] - 7s 123us/step - loss: 0.3362 - accuracy: 0.8772\n",
      "Epoch 4/5\n",
      "60000/60000 [==============================] - 7s 123us/step - loss: 0.3111 - accuracy: 0.8862\n",
      "Epoch 5/5\n",
      "60000/60000 [==============================] - 7s 125us/step - loss: 0.2926 - accuracy: 0.8931\n"
     ]
    },
    {
     "data": {
      "text/plain": [
       "<keras.callbacks.callbacks.History at 0x1c00d787f48>"
      ]
     },
     "execution_count": 16,
     "metadata": {},
     "output_type": "execute_result"
    }
   ],
   "source": [
    "network.fit(train_images, train_labels, epochs=5, batch_size=128)"
   ]
  },
  {
   "cell_type": "code",
   "execution_count": 17,
   "metadata": {},
   "outputs": [
    {
     "name": "stdout",
     "output_type": "stream",
     "text": [
      "10000/10000 [==============================] - 1s 120us/step\n",
      "test_acc: 0.8758000135421753\n"
     ]
    },
    {
     "data": {
      "text/plain": [
       "0.8758000135421753"
      ]
     },
     "execution_count": 17,
     "metadata": {},
     "output_type": "execute_result"
    }
   ],
   "source": [
    "test_loss, test_acc = network.evaluate(test_images, test_labels)\n",
    "print('test_acc:', test_acc)\n",
    "test_acc"
   ]
  },
  {
   "cell_type": "code",
   "execution_count": null,
   "metadata": {},
   "outputs": [],
   "source": []
  }
 ],
 "metadata": {
  "kernelspec": {
   "display_name": "Python 3",
   "language": "python",
   "name": "python3"
  },
  "language_info": {
   "codemirror_mode": {
    "name": "ipython",
    "version": 3
   },
   "file_extension": ".py",
   "mimetype": "text/x-python",
   "name": "python",
   "nbconvert_exporter": "python",
   "pygments_lexer": "ipython3",
   "version": "3.7.6"
  }
 },
 "nbformat": 4,
 "nbformat_minor": 4
}
